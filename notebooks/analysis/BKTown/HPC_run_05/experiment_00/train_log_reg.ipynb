{
 "cells": [
  {
   "cell_type": "code",
   "execution_count": 11,
   "metadata": {},
   "outputs": [],
   "source": [
    "import numpy as np\n",
    "import pandas as pd\n",
    "\n",
    "import pickle"
   ]
  },
  {
   "cell_type": "code",
   "execution_count": 12,
   "metadata": {},
   "outputs": [],
   "source": [
    "from src.config import config"
   ]
  },
  {
   "cell_type": "code",
   "execution_count": 13,
   "metadata": {},
   "outputs": [],
   "source": [
    "from sklearn.linear_model import LogisticRegression"
   ]
  },
  {
   "cell_type": "markdown",
   "metadata": {},
   "source": [
    "# Load data"
   ]
  },
  {
   "cell_type": "markdown",
   "metadata": {},
   "source": [
    "#### Load train matrices"
   ]
  },
  {
   "cell_type": "code",
   "execution_count": 14,
   "metadata": {},
   "outputs": [],
   "source": [
    "data_dir = config.DATA_DIR\n",
    "model_dir = config.MODEL_DIR"
   ]
  },
  {
   "cell_type": "code",
   "execution_count": 15,
   "metadata": {},
   "outputs": [],
   "source": [
    "processed_data_dir = data_dir / \"processed/HPC_run_05/experiment_00/\"\n",
    "\n",
    "X_train_per_leak_exp_file_name = processed_data_dir / \"X_train_per_leak_exp.p\"\n",
    "X_train_per_leak_exp = pickle.load( open( X_train_per_leak_exp_file_name, \"rb\" ) )\n",
    "\n",
    "X_test_per_leak_exp_file_name = processed_data_dir / \"X_test_per_leak_exp.p\"\n",
    "X_test_per_leak_exp = pickle.load( open( X_test_per_leak_exp_file_name, \"rb\" ) )\n",
    "\n",
    "y_train_per_leak_exp_file_name = processed_data_dir / \"y_train_per_leak_exp.p\"\n",
    "y_train_per_leak_exp = pickle.load( open( y_train_per_leak_exp_file_name, \"rb\" ) )"
   ]
  },
  {
   "cell_type": "markdown",
   "metadata": {},
   "source": [
    "# Configuration"
   ]
  },
  {
   "cell_type": "code",
   "execution_count": 16,
   "metadata": {},
   "outputs": [],
   "source": [
    "solver = 'saga' # handles elasticnet penalty\n",
    "penalty = 'elasticnet'\n",
    "\n",
    "Cs = [1e-4, 1e-3, 1e-2, 1e-1, 1e0, 1e1]\n",
    "l1_ratios = [0.0, 0.2, 0.4, 0.6, 0.8, 1.0]\n",
    "\n",
    "#Cs = [1e0]\n",
    "#l1_ratios = [0.0]\n",
    "#l1_ratios = [0.2, 0.4, 0.6, 0.8, 1.0]"
   ]
  },
  {
   "cell_type": "markdown",
   "metadata": {},
   "source": [
    "# Train leak classifier for every leak experiment"
   ]
  },
  {
   "cell_type": "code",
   "execution_count": 17,
   "metadata": {},
   "outputs": [],
   "source": [
    "log_reg_models_trained = {}"
   ]
  },
  {
   "cell_type": "code",
   "execution_count": null,
   "metadata": {},
   "outputs": [],
   "source": [
    "%%capture output\n",
    "\n",
    "%%time\n",
    "\n",
    "def write_line_to_progress_file(file_name, line):\n",
    "    f = open(file_name, \"a\")\n",
    "    f.writelines(line + \"\\n\")\n",
    "    f.close()    \n",
    "\n",
    "for l1_ratio in l1_ratios:\n",
    "    write_line_to_progress_file(\"train_progress.txt\", \"l1 ratio: \" + str(l1_ratio))\n",
    "    \n",
    "    log_reg_models_trained[str(l1_ratio)] = {}\n",
    "    \n",
    "    for C in Cs:\n",
    "        write_line_to_progress_file(\"train_progress.txt\", \"C: \" + str(C))\n",
    "        log_reg_models_trained[str(l1_ratio)][str(C)] = {}\n",
    "        trained_models_per_leak_exp = {}\n",
    "\n",
    "        for leak_location in list(X_train_per_leak_exp.keys()):\n",
    "            X_train = X_train_per_leak_exp[leak_location]\n",
    "            y_train = y_train_per_leak_exp[leak_location]\n",
    "            log_reg_clf = LogisticRegression(C=C, penalty=penalty, solver=solver, l1_ratio=l1_ratio)\n",
    "            log_reg_clf.fit(X_train, y_train)\n",
    "            trained_models_per_leak_exp[leak_location] = log_reg_clf\n",
    "            \n",
    "        log_reg_models_trained[str(l1_ratio)][str(C)] = trained_models_per_leak_exp\n",
    "        \n",
    "        leak_classification_model_dir = model_dir / \"HPC_run_05/leak_classification/trained_on_data/experiment_00/\"\n",
    "\n",
    "        trained_models_per_leak_exp_file_name = leak_classification_model_dir / \"log_reg_models_trained_tmp.p\"\n",
    "        pickle.dump(log_reg_models_trained, open(trained_models_per_leak_exp_file_name, \"wb\" ))"
   ]
  },
  {
   "cell_type": "code",
   "execution_count": null,
   "metadata": {},
   "outputs": [],
   "source": []
  },
  {
   "cell_type": "markdown",
   "metadata": {},
   "source": [
    "# Write to disk"
   ]
  },
  {
   "cell_type": "code",
   "execution_count": null,
   "metadata": {},
   "outputs": [],
   "source": [
    "leak_classification_model_dir = model_dir / \"HPC_run_05/leak_classification/trained_on_data/experiment_00/\"\n",
    "\n",
    "trained_models_per_leak_exp_file_name = leak_classification_model_dir / \"log_reg_models_trained.p\"\n",
    "pickle.dump(log_reg_models_trained, open(trained_models_per_leak_exp_file_name, \"wb\" ))"
   ]
  },
  {
   "cell_type": "code",
   "execution_count": null,
   "metadata": {},
   "outputs": [],
   "source": []
  }
 ],
 "metadata": {
  "kernelspec": {
   "display_name": "SWG",
   "language": "python",
   "name": "swg"
  },
  "language_info": {
   "codemirror_mode": {
    "name": "ipython",
    "version": 3
   },
   "file_extension": ".py",
   "mimetype": "text/x-python",
   "name": "python",
   "nbconvert_exporter": "python",
   "pygments_lexer": "ipython3",
   "version": "3.6.8"
  }
 },
 "nbformat": 4,
 "nbformat_minor": 4
}
