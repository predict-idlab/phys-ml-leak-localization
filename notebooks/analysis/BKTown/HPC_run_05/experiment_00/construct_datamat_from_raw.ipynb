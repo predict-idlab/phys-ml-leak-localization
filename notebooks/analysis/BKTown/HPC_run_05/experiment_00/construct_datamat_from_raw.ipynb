{
 "cells": [
  {
   "cell_type": "code",
   "execution_count": 1,
   "metadata": {},
   "outputs": [],
   "source": [
    "%load_ext autoreload\n",
    "%autoreload 2"
   ]
  },
  {
   "cell_type": "code",
   "execution_count": 2,
   "metadata": {},
   "outputs": [],
   "source": [
    "import numpy as np\n",
    "import pandas as pd\n",
    "\n",
    "import pickle\n",
    "\n",
    "import wntr"
   ]
  },
  {
   "cell_type": "code",
   "execution_count": 3,
   "metadata": {},
   "outputs": [],
   "source": [
    "from src.config import config"
   ]
  },
  {
   "cell_type": "code",
   "execution_count": 4,
   "metadata": {},
   "outputs": [],
   "source": [
    "from src.preprocess.preprocess_heads import (HeadSimsLeakyPreprocessor,\n",
    "                                             HeadSimsLeakFreePreprocessor,\n",
    "                                             PressureMeasurementsPreprocessor)\n",
    "from src.preprocess.helper_funcs import preprocess_exp_leaks_info\n",
    "from src.tdpbc.helper_funcs import calc_tdpbc_for_daytime_range\n",
    "from src.datamatrix.helper_funcs import (construct_train_and_test_matrix_for_leak_exp,\n",
    "                                         construct_ungrouped_leak_labels)\n",
    "\n",
    "from src.datamatrix.config import PRESSURE_LOGGERS_KEEP_IN_DATAMAT_MC_3"
   ]
  },
  {
   "cell_type": "markdown",
   "metadata": {},
   "source": [
    "# Load network info and data"
   ]
  },
  {
   "cell_type": "code",
   "execution_count": 5,
   "metadata": {},
   "outputs": [],
   "source": [
    "data_dir = config.DATA_DIR"
   ]
  },
  {
   "cell_type": "markdown",
   "metadata": {},
   "source": [
    "#### Load network info"
   ]
  },
  {
   "cell_type": "code",
   "execution_count": 6,
   "metadata": {},
   "outputs": [],
   "source": [
    "simulations_input_dir = data_dir / \"input/BKTown/HPC_run_05/\""
   ]
  },
  {
   "cell_type": "code",
   "execution_count": 7,
   "metadata": {},
   "outputs": [],
   "source": [
    "inp_file_name = simulations_input_dir / \"BKTown_original_WDN_8Dec2020_17Dec2020_calibrated.inp\"\n",
    "wn = wntr.network.WaterNetworkModel(inp_file_name=inp_file_name)"
   ]
  },
  {
   "cell_type": "code",
   "execution_count": 8,
   "metadata": {},
   "outputs": [],
   "source": [
    "pressure_loggers_asset_id_file = simulations_input_dir / \"pressure_loggers_asset_id.csv\"\n",
    "pressure_loggers_asset_id = pd.read_csv(pressure_loggers_asset_id_file, dtype=str)\n",
    "\n",
    "hydrants_asset_id_file = simulations_input_dir / \"hydrants_asset_id.csv\"\n",
    "hydrants_asset_id = pd.read_csv(hydrants_asset_id_file, dtype=str)"
   ]
  },
  {
   "cell_type": "markdown",
   "metadata": {},
   "source": [
    "#### Load leak scenarios"
   ]
  },
  {
   "cell_type": "code",
   "execution_count": 9,
   "metadata": {},
   "outputs": [],
   "source": [
    "simulated_data_dir = data_dir / \"simulated/BKTown/HPC_run_05/\""
   ]
  },
  {
   "cell_type": "code",
   "execution_count": 10,
   "metadata": {},
   "outputs": [],
   "source": [
    "filename = simulated_data_dir / \"BKTown_scenarios.pkl\"\n",
    "scenarios = pickle.load( open( filename, \"rb\" ) )"
   ]
  },
  {
   "cell_type": "markdown",
   "metadata": {},
   "source": [
    "#### Load head results for leak scenarios"
   ]
  },
  {
   "cell_type": "code",
   "execution_count": 11,
   "metadata": {},
   "outputs": [],
   "source": [
    "filename = simulated_data_dir / \"head_results.pkl\"\n",
    "head_results = pickle.load( open( filename, \"rb\" ) )"
   ]
  },
  {
   "cell_type": "markdown",
   "metadata": {},
   "source": [
    "Load leak free heads"
   ]
  },
  {
   "cell_type": "code",
   "execution_count": 12,
   "metadata": {},
   "outputs": [],
   "source": [
    "simulated_data_dir = data_dir / \"simulated/BKTown/local_run_04/\""
   ]
  },
  {
   "cell_type": "code",
   "execution_count": 13,
   "metadata": {},
   "outputs": [],
   "source": [
    "filename = simulated_data_dir / \"head_results_leakfree.pkl\"\n",
    "head_results_leakfree = pickle.load( open( filename, \"rb\" ) )"
   ]
  },
  {
   "cell_type": "markdown",
   "metadata": {},
   "source": [
    "#### Load measured pressure data"
   ]
  },
  {
   "cell_type": "code",
   "execution_count": 14,
   "metadata": {},
   "outputs": [],
   "source": [
    "measured_data_dir = data_dir / \"raw/BKTown/pressure_meas/\"\n",
    "\n",
    "pressure_data_file = measured_data_dir / \"mobile_pressure_data-08122020_15022021-UTCp01h00.csv\"\n",
    "pressure_data = pd.read_csv(pressure_data_file, dtype=str)"
   ]
  },
  {
   "cell_type": "markdown",
   "metadata": {},
   "source": [
    "#### Load info on experiments"
   ]
  },
  {
   "cell_type": "code",
   "execution_count": 15,
   "metadata": {},
   "outputs": [],
   "source": [
    "measured_data_dir = data_dir / \"raw/BKTown/experiments/\"\n",
    "\n",
    "infield_logging_file = measured_data_dir / \"infield_logging_leaks_MC_3.csv\"\n",
    "exp_leaks_info = pd.read_csv(infield_logging_file , dtype=str)"
   ]
  },
  {
   "cell_type": "markdown",
   "metadata": {},
   "source": [
    "# Configuration"
   ]
  },
  {
   "cell_type": "markdown",
   "metadata": {},
   "source": [
    "#### Define pressure loggers"
   ]
  },
  {
   "cell_type": "code",
   "execution_count": 16,
   "metadata": {},
   "outputs": [],
   "source": [
    "all_pressure_loggers = list(pressure_loggers_asset_id['asset_id'])"
   ]
  },
  {
   "cell_type": "markdown",
   "metadata": {},
   "source": [
    "#### Define leak candidates"
   ]
  },
  {
   "cell_type": "code",
   "execution_count": 17,
   "metadata": {},
   "outputs": [],
   "source": [
    "# hydrant asset id's are the leak candidates\n",
    "all_leak_locs = list(hydrants_asset_id['ID'])"
   ]
  },
  {
   "cell_type": "markdown",
   "metadata": {},
   "source": [
    "#### Preprocess info on experimental leaks"
   ]
  },
  {
   "cell_type": "code",
   "execution_count": 18,
   "metadata": {},
   "outputs": [],
   "source": [
    "exp_leaks_info = preprocess_exp_leaks_info(exp_leaks_info, round_leak_datetimes_5min=False)"
   ]
  },
  {
   "cell_type": "markdown",
   "metadata": {},
   "source": [
    "#### Configure preprocessing"
   ]
  },
  {
   "cell_type": "code",
   "execution_count": 19,
   "metadata": {},
   "outputs": [],
   "source": [
    "leaky_sims_start, leaky_sims_end = \"2020-12-16 00:00:00\", \"2020-12-18 00:00:00\"\n",
    "leakfree_sims_start, leakfree_sims_end = \"2020-12-08 00:00:00\", \"2020-12-18 00:00:00\"\n",
    "\n",
    "leaky_sims_write_to_disk_start, leaky_sims_write_to_disk_end = \"2020-12-16 00:00:00\", \"2020-12-18 00:00:00\""
   ]
  },
  {
   "cell_type": "markdown",
   "metadata": {},
   "source": [
    "#### Configure TDPBC"
   ]
  },
  {
   "cell_type": "code",
   "execution_count": 20,
   "metadata": {},
   "outputs": [],
   "source": [
    "tdpbc_start_date = \"2020-12-08 00:00:00\"\n",
    "tdpbc_end_date = \"2020-12-16 00:00:00\""
   ]
  },
  {
   "cell_type": "code",
   "execution_count": 21,
   "metadata": {},
   "outputs": [],
   "source": [
    "weekdays_to_include_tdpbc = ['Monday', 'Tuesday', 'Wednesday', 'Thursday', 'Friday']"
   ]
  },
  {
   "cell_type": "code",
   "execution_count": 22,
   "metadata": {},
   "outputs": [],
   "source": [
    "lin_weighting = False"
   ]
  },
  {
   "cell_type": "markdown",
   "metadata": {},
   "source": [
    "#### Configure construction of datamatrices"
   ]
  },
  {
   "cell_type": "code",
   "execution_count": 23,
   "metadata": {},
   "outputs": [],
   "source": [
    "p_logs_as_features = PRESSURE_LOGGERS_KEEP_IN_DATAMAT_MC_3\n",
    "nr_of_train_samples_per_leak = 40"
   ]
  },
  {
   "cell_type": "markdown",
   "metadata": {},
   "source": [
    "#### Drop a leak experiment from the analysis"
   ]
  },
  {
   "cell_type": "code",
   "execution_count": 24,
   "metadata": {},
   "outputs": [],
   "source": [
    "#leak_experiment_to_drop = \"\"\n",
    "#exp_leaks_info = exp_leaks_info[exp_leaks_info['3GE FID'] != leak_experiment_to_drop]"
   ]
  },
  {
   "cell_type": "markdown",
   "metadata": {},
   "source": [
    "# Preprocess head simulations and measurements"
   ]
  },
  {
   "cell_type": "code",
   "execution_count": 25,
   "metadata": {},
   "outputs": [],
   "source": [
    "head_sims_leaky_preproc = HeadSimsLeakyPreprocessor(sims_start=leaky_sims_start,\n",
    "                                                         sims_end=leaky_sims_end,\n",
    "                                                         sims_extract_start=leaky_sims_write_to_disk_start,\n",
    "                                                         sims_extract_end=leaky_sims_write_to_disk_end,\n",
    "                                                         delete_last_row=False)\n",
    "head_res = head_sims_leaky_preproc.transform(head_results)"
   ]
  },
  {
   "cell_type": "code",
   "execution_count": 26,
   "metadata": {},
   "outputs": [],
   "source": [
    "head_sims_leakfree_preproc = HeadSimsLeakFreePreprocessor(sims_start=leakfree_sims_start,\n",
    "                                                          sims_end=leakfree_sims_end)\n",
    "head_res_leakfree = head_sims_leakfree_preproc.transform(head_results_leakfree)"
   ]
  },
  {
   "cell_type": "code",
   "execution_count": 27,
   "metadata": {},
   "outputs": [],
   "source": [
    "pressure_meas_preproc = PressureMeasurementsPreprocessor(sims_start=leakfree_sims_start,\n",
    "                                                         sims_end=leakfree_sims_end,\n",
    "                                                         pressure_loggers_to_convert=all_pressure_loggers,\n",
    "                                                         wn=wn,\n",
    "                                                         shift_one_hour=False,\n",
    "                                                         drop_nan_p_logger=False)\n",
    "head_meas = pressure_meas_preproc.transform(pressure_data)"
   ]
  },
  {
   "cell_type": "markdown",
   "metadata": {},
   "source": [
    "# Calculate TDPBC"
   ]
  },
  {
   "cell_type": "code",
   "execution_count": 28,
   "metadata": {},
   "outputs": [
    {
     "name": "stderr",
     "output_type": "stream",
     "text": [
      "/media/datadrive/tmazaev/SWG/SWG_hybrid/src/tdpbc/helper_funcs.py:64: RuntimeWarning:\n",
      "\n",
      "Mean of empty slice\n",
      "\n",
      "/media/datadrive/tmazaev/SWG/venv/lib/python3.6/site-packages/numpy/lib/nanfunctions.py:1665: RuntimeWarning:\n",
      "\n",
      "Degrees of freedom <= 0 for slice.\n",
      "\n"
     ]
    }
   ],
   "source": [
    "tdpbc_per_exp_leak_location = {}\n",
    "\n",
    "for leak_location in exp_leaks_info['3GE FID']:\n",
    "    \n",
    "    # Get start and end time for leak location\n",
    "    leak_start_datetime = exp_leaks_info[exp_leaks_info['3GE FID'] == leak_location]['start_leak_datetime']\n",
    "    leak_end_datetime = exp_leaks_info[exp_leaks_info['3GE FID'] == leak_location]['end_leak_datetime']\n",
    "    leak_start_datetime = leak_start_datetime.values[0]\n",
    "    leak_end_datetime = leak_end_datetime.values[0]\n",
    "    leak_start_time = str(pd.to_datetime(leak_start_datetime).time())\n",
    "    leak_end_time = str(pd.to_datetime(leak_end_datetime).time())\n",
    "    \n",
    "    tdpbc_by_pressure_logger = {}\n",
    "    \n",
    "    for pressure_logger in all_pressure_loggers:\n",
    "        \n",
    "        tdpbc_by_pressure_logger[pressure_logger] = {}\n",
    "        tdpbc_mean, tdpbc_std = calc_tdpbc_for_daytime_range(head_meas,\n",
    "                                                             head_res_leakfree,\n",
    "                                                             pressure_logger,\n",
    "                                                             weekdays_to_include_tdpbc,\n",
    "                                                             start_date=tdpbc_start_date,\n",
    "                                                             end_date=tdpbc_end_date, # end date not included\n",
    "                                                             start_daytime=leak_start_time,\n",
    "                                                             end_daytime=leak_end_time,\n",
    "                                                             lin_weighting=lin_weighting) # end daytime included\n",
    "        \n",
    "        tdpbc_by_pressure_logger[pressure_logger]['mean'] = tdpbc_mean\n",
    "        tdpbc_by_pressure_logger[pressure_logger]['std'] = tdpbc_std\n",
    "    \n",
    "    tdpbc_per_exp_leak_location[leak_location] = tdpbc_by_pressure_logger\n",
    "    \n",
    "# e.g. tdpbc_per_exp_leak_location['775125'] contains the TDPBC for the experimental leak at '775125'"
   ]
  },
  {
   "cell_type": "code",
   "execution_count": 85,
   "metadata": {},
   "outputs": [],
   "source": [
    "#for key in list(tdpbc_per_exp_leak_location.keys())[0:10]:\n",
    "#    print(key)\n",
    "#    print('\\n')\n",
    "#    for p in p_logs_as_features:\n",
    "#        print(p)\n",
    "#        print(tdpbc_per_exp_leak_location[key][p])\n",
    "#    print('\\n')"
   ]
  },
  {
   "cell_type": "markdown",
   "metadata": {},
   "source": [
    "# Construct datamatrices"
   ]
  },
  {
   "cell_type": "code",
   "execution_count": 29,
   "metadata": {},
   "outputs": [],
   "source": [
    "X_train_per_leak_exp = {}\n",
    "X_test_per_leak_exp = {}\n",
    "\n",
    "for leak_location in exp_leaks_info['3GE FID']:\n",
    "    \n",
    "    # Get start and end time for leak location\n",
    "    leak_start_datetime = exp_leaks_info[exp_leaks_info['3GE FID'] == leak_location]['start_leak_datetime']\n",
    "    leak_end_datetime = exp_leaks_info[exp_leaks_info['3GE FID'] == leak_location]['end_leak_datetime']\n",
    "    leak_start_datetime = str(pd.to_datetime(leak_start_datetime.values[0]))\n",
    "    leak_end_datetime = str(pd.to_datetime(leak_end_datetime.values[0]))\n",
    "    \n",
    "    X, X_real_test = construct_train_and_test_matrix_for_leak_exp(leak_location=leak_location,\n",
    "                                                                  leak_start_datetime=leak_start_datetime,\n",
    "                                                                  leak_end_datetime=leak_end_datetime,\n",
    "                                                                  head_meas=head_meas,\n",
    "                                                                  head_res=head_res,\n",
    "                                                                  head_res_leakfree=head_res_leakfree,\n",
    "                                                                  tdpbc_per_exp_leak_location=tdpbc_per_exp_leak_location,\n",
    "                                                                  scenarios=scenarios,\n",
    "                                                                  p_logs_as_features=p_logs_as_features,\n",
    "                                                                  all_leak_locs=all_leak_locs,\n",
    "                                                                  nr_of_train_samples_per_leak=nr_of_train_samples_per_leak)\n",
    "    X_train_per_leak_exp[leak_location] = X\n",
    "    X_test_per_leak_exp[leak_location] = X_real_test"
   ]
  },
  {
   "cell_type": "code",
   "execution_count": 30,
   "metadata": {},
   "outputs": [],
   "source": [
    "y = construct_ungrouped_leak_labels(np.arange(0,len(all_leak_locs)))\n",
    "\n",
    "y_train_per_leak_exp = {}\n",
    "y_test_per_leak_exp = {}\n",
    "\n",
    "for leak_location in exp_leaks_info['3GE FID']:\n",
    "    y_train_per_leak_exp[leak_location] = y\n",
    "    y_test_per_leak_exp[leak_location] = leak_location"
   ]
  },
  {
   "cell_type": "markdown",
   "metadata": {},
   "source": [
    "# Write to disk"
   ]
  },
  {
   "cell_type": "code",
   "execution_count": 32,
   "metadata": {},
   "outputs": [],
   "source": [
    "processed_data_dir = data_dir / \"processed/HPC_run_05/experiment_00\"\n",
    "\n",
    "X_train_per_leak_exp_file_name = processed_data_dir / \"X_train_per_leak_exp.p\"\n",
    "pickle.dump(X_train_per_leak_exp, open(X_train_per_leak_exp_file_name, \"wb\" ))\n",
    "\n",
    "X_test_per_leak_exp_file_name = processed_data_dir / \"X_test_per_leak_exp.p\"\n",
    "pickle.dump(X_test_per_leak_exp, open(X_test_per_leak_exp_file_name, \"wb\" ))\n",
    "\n",
    "y_train_per_leak_exp_file_name = processed_data_dir / \"y_train_per_leak_exp.p\"\n",
    "pickle.dump(y_train_per_leak_exp, open(y_train_per_leak_exp_file_name, \"wb\" ))\n",
    "\n",
    "y_test_per_leak_exp_file_name = processed_data_dir / \"y_test_per_leak_exp.p\"\n",
    "pickle.dump(y_test_per_leak_exp, open(y_test_per_leak_exp_file_name, \"wb\" ))"
   ]
  },
  {
   "cell_type": "code",
   "execution_count": null,
   "metadata": {},
   "outputs": [],
   "source": []
  }
 ],
 "metadata": {
  "kernelspec": {
   "display_name": "SWG",
   "language": "python",
   "name": "swg"
  },
  "language_info": {
   "codemirror_mode": {
    "name": "ipython",
    "version": 3
   },
   "file_extension": ".py",
   "mimetype": "text/x-python",
   "name": "python",
   "nbconvert_exporter": "python",
   "pygments_lexer": "ipython3",
   "version": "3.6.8"
  }
 },
 "nbformat": 4,
 "nbformat_minor": 4
}
