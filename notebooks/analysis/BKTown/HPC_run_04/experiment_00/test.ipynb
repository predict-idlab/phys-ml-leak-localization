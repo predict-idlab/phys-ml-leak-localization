{
 "cells": [
  {
   "cell_type": "code",
   "execution_count": 1,
   "metadata": {},
   "outputs": [],
   "source": [
    "%load_ext autoreload\n",
    "%autoreload 2"
   ]
  },
  {
   "cell_type": "code",
   "execution_count": 2,
   "metadata": {},
   "outputs": [],
   "source": [
    "import numpy as np\n",
    "import pandas as pd\n",
    "\n",
    "import datetime\n",
    "\n",
    "import pickle\n",
    "\n",
    "import wntr\n",
    "\n",
    "import matplotlib.pyplot as plt\n",
    "import plotly.graph_objects as go\n",
    "import seaborn as sns"
   ]
  },
  {
   "cell_type": "code",
   "execution_count": 3,
   "metadata": {},
   "outputs": [],
   "source": [
    "from src.config import config\n",
    "from src.preprocess.config import NR_OF_LEAK_LOCS_MC_2\n",
    "from src.datamatrix.config import PRESSURE_LOGGERS_KEEP_IN_DATAMAT\n",
    "from src.experiments.helper_funcs import compute_mean_log_loss_over_leak_experiments"
   ]
  },
  {
   "cell_type": "code",
   "execution_count": 4,
   "metadata": {},
   "outputs": [],
   "source": [
    "from src.visualization.wdn_fig_visualization import WDNLeakProbsFigBuilder"
   ]
  },
  {
   "cell_type": "markdown",
   "metadata": {},
   "source": [
    "# Load data"
   ]
  },
  {
   "cell_type": "code",
   "execution_count": 5,
   "metadata": {},
   "outputs": [],
   "source": [
    "data_dir = config.DATA_DIR\n",
    "model_dir = config.MODEL_DIR\n",
    "results_dir = config.RESULTS_DIR"
   ]
  },
  {
   "cell_type": "markdown",
   "metadata": {},
   "source": [
    "#### Load trained leak localization models"
   ]
  },
  {
   "cell_type": "code",
   "execution_count": 6,
   "metadata": {},
   "outputs": [],
   "source": [
    "leak_classification_model_dir = model_dir / \"HPC_run_04/leak_classification/trained_on_data/experiment_00\"\n",
    "log_reg_models_trained_file_name = leak_classification_model_dir / \"log_reg_models_trained.p\"\n",
    "log_reg_models_trained = pickle.load( open( log_reg_models_trained_file_name, \"rb\" ) )"
   ]
  },
  {
   "cell_type": "markdown",
   "metadata": {},
   "source": [
    "#### Load test data matrices"
   ]
  },
  {
   "cell_type": "code",
   "execution_count": 7,
   "metadata": {},
   "outputs": [],
   "source": [
    "processed_data_dir = data_dir / \"processed/HPC_run_04/experiment_00\"\n",
    "\n",
    "X_test_per_leak_exp_file_name = processed_data_dir / \"X_test_per_leak_exp.p\"\n",
    "X_test_per_leak_exp = pickle.load( open( X_test_per_leak_exp_file_name, \"rb\" ) )\n",
    "\n",
    "y_test_per_leak_exp_file_name = processed_data_dir / \"y_test_per_leak_exp.p\"\n",
    "y_test_per_leak_exp = pickle.load( open( y_test_per_leak_exp_file_name, \"rb\" ) )"
   ]
  },
  {
   "cell_type": "markdown",
   "metadata": {},
   "source": [
    "#### Load network info"
   ]
  },
  {
   "cell_type": "code",
   "execution_count": 8,
   "metadata": {},
   "outputs": [],
   "source": [
    "simulations_input_dir = data_dir / \"input/BKTown/HPC_run_04/\""
   ]
  },
  {
   "cell_type": "code",
   "execution_count": 9,
   "metadata": {},
   "outputs": [],
   "source": [
    "inp_file_name = simulations_input_dir / \"BKTown_extended_WDN_01Jul2020_31Aug2020_calibrated.inp\"\n",
    "wn = wntr.network.WaterNetworkModel(inp_file_name=inp_file_name)"
   ]
  },
  {
   "cell_type": "code",
   "execution_count": 10,
   "metadata": {},
   "outputs": [],
   "source": [
    "pressure_loggers_asset_id_file = simulations_input_dir / \"pressure_loggers_asset_id.csv\"\n",
    "pressure_loggers_asset_id = pd.read_csv(pressure_loggers_asset_id_file, dtype=str)\n",
    "\n",
    "hydrants_asset_id_file = simulations_input_dir / \"hydrants_asset_id.csv\"\n",
    "hydrants_asset_id = pd.read_csv(hydrants_asset_id_file, dtype=str)"
   ]
  },
  {
   "cell_type": "markdown",
   "metadata": {},
   "source": [
    "#### Load leak information, only experiments with leak size of 10 m3/h are considered"
   ]
  },
  {
   "cell_type": "code",
   "execution_count": 11,
   "metadata": {},
   "outputs": [],
   "source": [
    "measured_data_dir = data_dir / \"raw/BKTown/experiments/\"\n",
    "\n",
    "infield_logging_file = measured_data_dir / \"infield_logging_leaks_10_m3h.csv\"\n",
    "exp_leaks_info = pd.read_csv(infield_logging_file , dtype=str)"
   ]
  },
  {
   "cell_type": "markdown",
   "metadata": {},
   "source": [
    "#### Define leak candidates"
   ]
  },
  {
   "cell_type": "code",
   "execution_count": 12,
   "metadata": {},
   "outputs": [],
   "source": [
    "#hydrant asset id's are the leak candidates\n",
    "all_leak_locs = list(hydrants_asset_id['G3E_FID'])"
   ]
  },
  {
   "cell_type": "markdown",
   "metadata": {},
   "source": [
    "#### Define pressure loggers"
   ]
  },
  {
   "cell_type": "code",
   "execution_count": 13,
   "metadata": {},
   "outputs": [],
   "source": [
    "all_pressure_loggers = list(pressure_loggers_asset_id['asset_id'])"
   ]
  },
  {
   "cell_type": "markdown",
   "metadata": {},
   "source": [
    "#### Info on leak experiments"
   ]
  },
  {
   "cell_type": "code",
   "execution_count": 14,
   "metadata": {},
   "outputs": [],
   "source": [
    "exp_leaks_info['start_leak_datetime'] = pd.to_datetime(exp_leaks_info['Datum'] +' ' + exp_leaks_info['Beginuur'],\n",
    "                                                       format=\"%d/%m/%Y %H:%M\")\n",
    "exp_leaks_info['end_leak_datetime'] = pd.to_datetime(exp_leaks_info['Datum'] +' ' + exp_leaks_info['Einduur'],\n",
    "                                                       format=\"%d/%m/%Y %H:%M\")\n",
    "exp_leaks_info.drop(['Datum','Beginuur','Einduur'], axis='columns', inplace=True)"
   ]
  },
  {
   "cell_type": "code",
   "execution_count": 221,
   "metadata": {},
   "outputs": [
    {
     "data": {
      "text/plain": [
       "['775125', '773051', '780176', '936678', '2288126', '1164867', '1135282']"
      ]
     },
     "execution_count": 221,
     "metadata": {},
     "output_type": "execute_result"
    }
   ],
   "source": [
    "leak_locs_experiments"
   ]
  },
  {
   "cell_type": "markdown",
   "metadata": {},
   "source": [
    "# Test leak localization per leak experiment"
   ]
  },
  {
   "cell_type": "code",
   "execution_count": 15,
   "metadata": {},
   "outputs": [],
   "source": [
    "hydrants_nb_to_label_dict = dict(zip(all_leak_locs, np.arange(0,len(all_leak_locs))))"
   ]
  },
  {
   "cell_type": "markdown",
   "metadata": {},
   "source": [
    "#### Evaluate log loss over the hyperparameters"
   ]
  },
  {
   "cell_type": "code",
   "execution_count": 16,
   "metadata": {},
   "outputs": [],
   "source": [
    "Cs = [1e-4, 1e-3, 1e-2, 1e-1, 1e0, 1e1]\n",
    "l1_ratios = [0.0, 0.2, 0.4, 0.6, 0.8, 1.0]\n",
    "\n",
    "#Cs = [1e0]\n",
    "#l1_ratios = [0.0]"
   ]
  },
  {
   "cell_type": "code",
   "execution_count": 17,
   "metadata": {},
   "outputs": [],
   "source": [
    "log_reg_models_log_loss = {}\n",
    "\n",
    "for l1_ratio in l1_ratios:\n",
    "    log_reg_models_log_loss[str(l1_ratio)] = {}\n",
    "    \n",
    "    for C in Cs:\n",
    "        log_reg_models_log_loss[str(l1_ratio)][str(C)] = {}\n",
    "        trained_models_per_leak_exp = log_reg_models_trained[str(l1_ratio)][str(C)]\n",
    "\n",
    "        log_loss_mean = compute_mean_log_loss_over_leak_experiments(trained_models_per_leak_exp.keys(),\n",
    "                                                                    X_test_per_leak_exp,\n",
    "                                                                    trained_models_per_leak_exp,\n",
    "                                                                    hydrants_nb_to_label_dict,\n",
    "                                                                    NR_OF_LEAK_LOCS_MC_2)\n",
    "            \n",
    "        log_reg_models_log_loss[str(l1_ratio)][str(C)] = log_loss_mean"
   ]
  },
  {
   "cell_type": "markdown",
   "metadata": {},
   "source": [
    "#### Plot cross entropy results for L2 logistic regression"
   ]
  },
  {
   "cell_type": "code",
   "execution_count": 18,
   "metadata": {},
   "outputs": [
    {
     "data": {
      "image/png": "[encoded data removed]",
      "text/plain": [
       "<Figure size 288x216 with 1 Axes>"
      ]
     },
     "metadata": {
      "needs_background": "light"
     },
     "output_type": "display_data"
    }
   ],
   "source": [
    "tmp = list(log_reg_models_log_loss['0.0'].keys())\n",
    "x_values = [float(loss) for loss in tmp]\n",
    "y_values = list(log_reg_models_log_loss['0.0'].values())\n",
    "\n",
    "fig = plt.figure(figsize=(4, 3))\n",
    "\n",
    "plt.plot(x_values, y_values, marker = \".\", markersize=10)\n",
    "plt.xscale('log')\n",
    "plt.xlabel('C')\n",
    "plt.ylabel('Mean cross entropy')\n",
    "plt.show()\n",
    "\n",
    "#fig_dir = results_dir / \"BKTOWN/experiment_00\"\n",
    "#fig_file_name = fig_dir / \"log_reg_l2_C_search_result.pdf\"\n",
    "#fig.savefig(fig_file_name, bbox_inches='tight')"
   ]
  },
  {
   "cell_type": "markdown",
   "metadata": {},
   "source": [
    "#### Plot cross entropy results for Elastic-Net logistic regression"
   ]
  },
  {
   "cell_type": "code",
   "execution_count": 21,
   "metadata": {},
   "outputs": [
    {
     "data": {
      "image/png": "[encoded data removed]",
      "text/plain": [
       "<Figure size 432x288 with 2 Axes>"
      ]
     },
     "metadata": {
      "needs_background": "light"
     },
     "output_type": "display_data"
    }
   ],
   "source": [
    "log_reg_models_log_loss_df = pd.DataFrame(log_reg_models_log_loss)\n",
    "ax = sns.heatmap(log_reg_models_log_loss_df.T, annot=True)\n",
    "ax.set(xlabel='C', ylabel='L1 ratio')\n",
    "\n",
    "#fig_file_name = fig_dir / \"log_reg_elastic_C_l1_search_result.pdf\"\n",
    "#plt.savefig(fig_file_name)"
   ]
  },
  {
   "cell_type": "code",
   "execution_count": null,
   "metadata": {},
   "outputs": [],
   "source": []
  },
  {
   "cell_type": "markdown",
   "metadata": {},
   "source": [
    "#### Visualize leak probabilities"
   ]
  },
  {
   "cell_type": "code",
   "execution_count": 215,
   "metadata": {},
   "outputs": [],
   "source": [
    "l1_ratio_plot = '0.2'\n",
    "C_plot = '0.01'\n",
    "leak_exp_idx_plot = 6"
   ]
  },
  {
   "cell_type": "code",
   "execution_count": 216,
   "metadata": {},
   "outputs": [
    {
     "data": {
      "text/plain": [
       "['775125', '773051', '780176', '936678', '2288126', '1164867', '1135282']"
      ]
     },
     "execution_count": 216,
     "metadata": {},
     "output_type": "execute_result"
    }
   ],
   "source": [
    "leak_locs_experiments"
   ]
  },
  {
   "cell_type": "code",
   "execution_count": 217,
   "metadata": {},
   "outputs": [],
   "source": [
    "models_trained_per_leak_exp = log_reg_models_trained[l1_ratio_plot][C_plot]\n",
    "\n",
    "leak_locs_experiments = list(models_trained_per_leak_exp.keys())\n",
    "\n",
    "leak_loc_true = leak_locs_experiments[leak_exp_idx_plot]\n",
    "leak_start_datetime = exp_leaks_info[exp_leaks_info['3GE FID'] == leak_loc_true]['start_leak_datetime']\n",
    "leak_start_datetime = str(pd.to_datetime(leak_start_datetime.values[0]))\n",
    "\n",
    "# X test vector for the leak location\n",
    "X_real_test = X_test_per_leak_exp[leak_loc_true]\n",
    "\n",
    "# Compute leak probabilities for the classifier\n",
    "clf = models_trained_per_leak_exp[leak_loc_true]\n",
    "y_probs_log_reg_real = clf.predict_proba(X_real_test).reshape((1,1,NR_OF_LEAK_LOCS_MC_2))\n",
    "y_probs_plot = y_probs_log_reg_real.flatten()"
   ]
  },
  {
   "cell_type": "code",
   "execution_count": 218,
   "metadata": {},
   "outputs": [],
   "source": [
    "wdn_leak_probs_fig_builder = WDNLeakProbsFigBuilder(wn,\n",
    "                                                    leak_start_datetime,\n",
    "                                                    [],\n",
    "                                                    all_leak_locs,\n",
    "                                                    leak_loc_true,\n",
    "                                                    hydrants_nb_to_label_dict,\n",
    "                                                    y_probs_plot,\n",
    "                                                    leak_probs_color_map_scaling = 'linear_set_max',\n",
    "                                                    leak_probs_color_map_max_bound=0.004,\n",
    "                                                    show_other_nodes_than_hydrant=False,\n",
    "                                                    fig_legend_font_size=1)\n",
    "wdn_leak_probs_fig_builder.build_wdn_fig()\n",
    "wdn_fig = wdn_leak_probs_fig_builder.wdn_fig\n",
    "#wdn_fig.show()"
   ]
  },
  {
   "cell_type": "code",
   "execution_count": 219,
   "metadata": {},
   "outputs": [],
   "source": []
  }
 ],
 "metadata": {
  "kernelspec": {
   "display_name": "SWG",
   "language": "python",
   "name": "swg"
  },
  "language_info": {
   "codemirror_mode": {
    "name": "ipython",
    "version": 3
   },
   "file_extension": ".py",
   "mimetype": "text/x-python",
   "name": "python",
   "nbconvert_exporter": "python",
   "pygments_lexer": "ipython3",
   "version": "3.6.8"
  }
 },
 "nbformat": 4,
 "nbformat_minor": 4
}
